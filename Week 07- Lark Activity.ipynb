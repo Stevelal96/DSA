{
 "cells": [
  {
   "cell_type": "code",
   "execution_count": 1,
   "id": "e90192f0",
   "metadata": {},
   "outputs": [],
   "source": [
    "# Importing Libraries\n",
    "\n",
    "import numpy as np\n",
    "import matplotlib as plt\n",
    "import seaborn as sns\n",
    "import pandas as pd\n",
    "from scipy.stats import ttest_rel\n",
    "from scipy.stats import ttest_ind\n",
    "from statsmodels.stats.weightstats import ztest"
   ]
  },
  {
   "cell_type": "code",
   "execution_count": 2,
   "id": "5b98e752",
   "metadata": {
    "scrolled": true
   },
   "outputs": [
    {
     "data": {
      "text/html": [
       "<div>\n",
       "<style scoped>\n",
       "    .dataframe tbody tr th:only-of-type {\n",
       "        vertical-align: middle;\n",
       "    }\n",
       "\n",
       "    .dataframe tbody tr th {\n",
       "        vertical-align: top;\n",
       "    }\n",
       "\n",
       "    .dataframe thead th {\n",
       "        text-align: right;\n",
       "    }\n",
       "</style>\n",
       "<table border=\"1\" class=\"dataframe\">\n",
       "  <thead>\n",
       "    <tr style=\"text-align: right;\">\n",
       "      <th></th>\n",
       "      <th>Gender</th>\n",
       "      <th>Test preparation</th>\n",
       "      <th>Total Marks</th>\n",
       "    </tr>\n",
       "  </thead>\n",
       "  <tbody>\n",
       "    <tr>\n",
       "      <th>0</th>\n",
       "      <td>male</td>\n",
       "      <td>none</td>\n",
       "      <td>14</td>\n",
       "    </tr>\n",
       "    <tr>\n",
       "      <th>1</th>\n",
       "      <td>female</td>\n",
       "      <td>none</td>\n",
       "      <td>28</td>\n",
       "    </tr>\n",
       "    <tr>\n",
       "      <th>2</th>\n",
       "      <td>female</td>\n",
       "      <td>none</td>\n",
       "      <td>18</td>\n",
       "    </tr>\n",
       "    <tr>\n",
       "      <th>3</th>\n",
       "      <td>female</td>\n",
       "      <td>none</td>\n",
       "      <td>48</td>\n",
       "    </tr>\n",
       "    <tr>\n",
       "      <th>4</th>\n",
       "      <td>female</td>\n",
       "      <td>none</td>\n",
       "      <td>21</td>\n",
       "    </tr>\n",
       "    <tr>\n",
       "      <th>5</th>\n",
       "      <td>female</td>\n",
       "      <td>completed</td>\n",
       "      <td>40</td>\n",
       "    </tr>\n",
       "    <tr>\n",
       "      <th>6</th>\n",
       "      <td>male</td>\n",
       "      <td>none</td>\n",
       "      <td>30</td>\n",
       "    </tr>\n",
       "    <tr>\n",
       "      <th>7</th>\n",
       "      <td>female</td>\n",
       "      <td>none</td>\n",
       "      <td>12</td>\n",
       "    </tr>\n",
       "    <tr>\n",
       "      <th>8</th>\n",
       "      <td>male</td>\n",
       "      <td>none</td>\n",
       "      <td>18</td>\n",
       "    </tr>\n",
       "    <tr>\n",
       "      <th>9</th>\n",
       "      <td>male</td>\n",
       "      <td>none</td>\n",
       "      <td>24</td>\n",
       "    </tr>\n",
       "    <tr>\n",
       "      <th>10</th>\n",
       "      <td>male</td>\n",
       "      <td>completed</td>\n",
       "      <td>44</td>\n",
       "    </tr>\n",
       "    <tr>\n",
       "      <th>11</th>\n",
       "      <td>male</td>\n",
       "      <td>none</td>\n",
       "      <td>23</td>\n",
       "    </tr>\n",
       "    <tr>\n",
       "      <th>12</th>\n",
       "      <td>male</td>\n",
       "      <td>completed</td>\n",
       "      <td>43</td>\n",
       "    </tr>\n",
       "    <tr>\n",
       "      <th>13</th>\n",
       "      <td>male</td>\n",
       "      <td>none</td>\n",
       "      <td>28</td>\n",
       "    </tr>\n",
       "    <tr>\n",
       "      <th>14</th>\n",
       "      <td>female</td>\n",
       "      <td>none</td>\n",
       "      <td>41</td>\n",
       "    </tr>\n",
       "    <tr>\n",
       "      <th>15</th>\n",
       "      <td>female</td>\n",
       "      <td>none</td>\n",
       "      <td>13</td>\n",
       "    </tr>\n",
       "    <tr>\n",
       "      <th>16</th>\n",
       "      <td>female</td>\n",
       "      <td>completed</td>\n",
       "      <td>48</td>\n",
       "    </tr>\n",
       "    <tr>\n",
       "      <th>17</th>\n",
       "      <td>female</td>\n",
       "      <td>none</td>\n",
       "      <td>45</td>\n",
       "    </tr>\n",
       "    <tr>\n",
       "      <th>18</th>\n",
       "      <td>male</td>\n",
       "      <td>none</td>\n",
       "      <td>47</td>\n",
       "    </tr>\n",
       "    <tr>\n",
       "      <th>19</th>\n",
       "      <td>male</td>\n",
       "      <td>none</td>\n",
       "      <td>36</td>\n",
       "    </tr>\n",
       "    <tr>\n",
       "      <th>20</th>\n",
       "      <td>male</td>\n",
       "      <td>none</td>\n",
       "      <td>14</td>\n",
       "    </tr>\n",
       "    <tr>\n",
       "      <th>21</th>\n",
       "      <td>male</td>\n",
       "      <td>completed</td>\n",
       "      <td>44</td>\n",
       "    </tr>\n",
       "    <tr>\n",
       "      <th>22</th>\n",
       "      <td>female</td>\n",
       "      <td>none</td>\n",
       "      <td>41</td>\n",
       "    </tr>\n",
       "    <tr>\n",
       "      <th>23</th>\n",
       "      <td>female</td>\n",
       "      <td>none</td>\n",
       "      <td>27</td>\n",
       "    </tr>\n",
       "    <tr>\n",
       "      <th>24</th>\n",
       "      <td>female</td>\n",
       "      <td>none</td>\n",
       "      <td>27</td>\n",
       "    </tr>\n",
       "    <tr>\n",
       "      <th>25</th>\n",
       "      <td>female</td>\n",
       "      <td>none</td>\n",
       "      <td>38</td>\n",
       "    </tr>\n",
       "    <tr>\n",
       "      <th>26</th>\n",
       "      <td>female</td>\n",
       "      <td>completed</td>\n",
       "      <td>50</td>\n",
       "    </tr>\n",
       "    <tr>\n",
       "      <th>27</th>\n",
       "      <td>female</td>\n",
       "      <td>completed</td>\n",
       "      <td>43</td>\n",
       "    </tr>\n",
       "  </tbody>\n",
       "</table>\n",
       "</div>"
      ],
      "text/plain": [
       "    Gender Test preparation  Total Marks\n",
       "0     male             none           14\n",
       "1   female             none           28\n",
       "2   female             none           18\n",
       "3   female             none           48\n",
       "4   female             none           21\n",
       "5   female        completed           40\n",
       "6     male             none           30\n",
       "7   female             none           12\n",
       "8     male             none           18\n",
       "9     male             none           24\n",
       "10    male        completed           44\n",
       "11    male             none           23\n",
       "12    male        completed           43\n",
       "13    male             none           28\n",
       "14  female             none           41\n",
       "15  female             none           13\n",
       "16  female        completed           48\n",
       "17  female             none           45\n",
       "18    male             none           47\n",
       "19    male             none           36\n",
       "20    male             none           14\n",
       "21    male        completed           44\n",
       "22  female             none           41\n",
       "23  female             none           27\n",
       "24  female             none           27\n",
       "25  female             none           38\n",
       "26  female        completed           50\n",
       "27  female        completed           43"
      ]
     },
     "execution_count": 2,
     "metadata": {},
     "output_type": "execute_result"
    }
   ],
   "source": [
    "# Reading the dataset\n",
    "\n",
    "data= pd.read_csv('dataset w7.csv')\n",
    "data"
   ]
  },
  {
   "cell_type": "code",
   "execution_count": 3,
   "id": "ed1a2288",
   "metadata": {},
   "outputs": [
    {
     "data": {
      "text/plain": [
       "Gender              0\n",
       "Test preparation    0\n",
       "Total Marks         0\n",
       "dtype: int64"
      ]
     },
     "execution_count": 3,
     "metadata": {},
     "output_type": "execute_result"
    }
   ],
   "source": [
    "# Checking for null values\n",
    "\n",
    "data.isnull().sum()"
   ]
  },
  {
   "cell_type": "code",
   "execution_count": 4,
   "id": "95e098f8",
   "metadata": {},
   "outputs": [
    {
     "data": {
      "text/plain": [
       "count    28.000000\n",
       "mean     32.321429\n",
       "std      12.454520\n",
       "min      12.000000\n",
       "25%      22.500000\n",
       "50%      33.000000\n",
       "75%      43.250000\n",
       "max      50.000000\n",
       "Name: Total Marks, dtype: float64"
      ]
     },
     "execution_count": 4,
     "metadata": {},
     "output_type": "execute_result"
    }
   ],
   "source": [
    "# 1. Carry out descriptive analytics on the dataset.\n",
    "\n",
    "data[('Total Marks')].describe()"
   ]
  },
  {
   "cell_type": "code",
   "execution_count": 5,
   "id": "79dd0d25",
   "metadata": {},
   "outputs": [
    {
     "data": {
      "text/plain": [
       "count       28\n",
       "unique       2\n",
       "top       none\n",
       "freq        21\n",
       "Name: Test preparation, dtype: object"
      ]
     },
     "execution_count": 5,
     "metadata": {},
     "output_type": "execute_result"
    }
   ],
   "source": [
    "data[('Test preparation')].describe()"
   ]
  },
  {
   "cell_type": "code",
   "execution_count": 6,
   "id": "2a39e128",
   "metadata": {},
   "outputs": [
    {
     "data": {
      "text/plain": [
       "female    16\n",
       "male      12\n",
       "Name: Gender, dtype: int64"
      ]
     },
     "execution_count": 6,
     "metadata": {},
     "output_type": "execute_result"
    }
   ],
   "source": [
    "data['Gender'].value_counts()"
   ]
  },
  {
   "cell_type": "code",
   "execution_count": 7,
   "id": "5fcc20de",
   "metadata": {},
   "outputs": [
    {
     "data": {
      "text/plain": [
       "Gender  Test preparation\n",
       "female  none                12\n",
       "        completed            4\n",
       "male    none                 9\n",
       "        completed            3\n",
       "Name: Test preparation, dtype: int64"
      ]
     },
     "execution_count": 7,
     "metadata": {},
     "output_type": "execute_result"
    }
   ],
   "source": [
    "data.groupby('Gender')['Test preparation'].value_counts()"
   ]
  },
  {
   "cell_type": "code",
   "execution_count": 8,
   "id": "1aa0cfd7",
   "metadata": {},
   "outputs": [
    {
     "data": {
      "text/plain": [
       "Gender\n",
       "female    33.750000\n",
       "male      30.416667\n",
       "Name: Total Marks, dtype: float64"
      ]
     },
     "execution_count": 8,
     "metadata": {},
     "output_type": "execute_result"
    }
   ],
   "source": [
    "data.groupby('Gender')['Total Marks'].mean()\n"
   ]
  },
  {
   "cell_type": "code",
   "execution_count": 9,
   "id": "eef5c5c6",
   "metadata": {
    "scrolled": true
   },
   "outputs": [
    {
     "data": {
      "text/plain": [
       "Test preparation\n",
       "completed    44.571429\n",
       "none         28.238095\n",
       "Name: Total Marks, dtype: float64"
      ]
     },
     "execution_count": 9,
     "metadata": {},
     "output_type": "execute_result"
    }
   ],
   "source": [
    "data.groupby('Test preparation')['Total Marks'].mean()"
   ]
  },
  {
   "cell_type": "markdown",
   "id": "7a516f5d",
   "metadata": {},
   "source": [
    "Inferences: \n",
    "1. There are no null values. The total sample size is 28.\n",
    "2. Out of the total 28 samples, 21 samples didnot take test preparation, 7 completed test preparation and out of which 4 are female.\n",
    "3. There 16 female and 12 male saqmples\n",
    "4. The average total marks for female are greater than male samples.\n",
    "5. The average total marks for those who completed test preparation are greater than for those who didn't take test preparation.\n",
    "6. The mean score of the total marks is 32.32, where the minimum scored value is 12 and maximum is 50. "
   ]
  },
  {
   "cell_type": "code",
   "execution_count": 10,
   "id": "f8e57a43",
   "metadata": {},
   "outputs": [
    {
     "name": "stdout",
     "output_type": "stream",
     "text": [
      "The test result is: [-0.69408853] [0.49378223]\n"
     ]
    }
   ],
   "source": [
    "# 2. Check whether female and male students scored the same marks.\n",
    "#H0:Male and female students scored same marks \n",
    "#H1:Male and female students doesn't score same marks\n",
    "\n",
    "alpha=.05\n",
    "MM = data[data[\"Gender\"]==\"male\"][[\"Total Marks\"]]\n",
    "FM = data[data[\"Gender\"]==\"female\"][[\"Total Marks\"]]\n",
    "t_score,p_value=ttest_ind(MM,FM)\n",
    "print('The test result is:', t_score, p_value)"
   ]
  },
  {
   "cell_type": "code",
   "execution_count": 11,
   "id": "04af2c66",
   "metadata": {},
   "outputs": [
    {
     "name": "stdout",
     "output_type": "stream",
     "text": [
      "The p value is [0.49378223] is greater than 0.05(the alpha value), therefore the dataset fails to reject the null hypothesis.\n"
     ]
    }
   ],
   "source": [
    "if (p_value>alpha):\n",
    "    print('The p value is', p_value,'is greater than 0.05(the alpha value), therefore the dataset fails to reject the null hypothesis.')\n",
    "else:\n",
    "    print('The p value',p_value,'is less than 0.05(the alpha value), therefore the sample fails to accept the null hypothesis.')"
   ]
  },
  {
   "cell_type": "markdown",
   "id": "28880b97",
   "metadata": {},
   "source": [
    "According to the null hypothesis, the female and male candidates scores same marks. "
   ]
  },
  {
   "cell_type": "code",
   "execution_count": 12,
   "id": "5b91fefe",
   "metadata": {},
   "outputs": [
    {
     "name": "stdout",
     "output_type": "stream",
     "text": [
      "The test result is: [3.61436375] [0.00126713]\n"
     ]
    }
   ],
   "source": [
    "# 3. Whether test preparation helps the students?\n",
    "# H0= There is no significant difference between the scores of students who completed test preparation and who didn't.\n",
    "# H1= There is significant difference between the scores of students who completed test preparation and who didn't.\n",
    "\n",
    "alpha=.05\n",
    "CM = data[data[\"Test preparation\"]==\"completed\"][[\"Total Marks\"]]\n",
    "NM = data[data['Test preparation']==\"none\"][[\"Total Marks\"]]\n",
    "t_score2,p_value2=ttest_ind(CM,NM)\n",
    "print('The test result is:', t_score2, p_value2)"
   ]
  },
  {
   "cell_type": "code",
   "execution_count": 13,
   "id": "baf507bd",
   "metadata": {},
   "outputs": [
    {
     "name": "stdout",
     "output_type": "stream",
     "text": [
      "The p value [0.00126713] is less than 0.05(the alpha value), therefore the sample fails to accept the null hypothesis.\n"
     ]
    }
   ],
   "source": [
    "if (p_value2>alpha):\n",
    "    print('The p value is', p_value2,'is greater than 0.05(the alpha value), therefore the dataset fails to reject the null hypothesis.')\n",
    "else:\n",
    "    print('The p value',p_value2,'is less than 0.05(the alpha value), therefore the sample fails to accept the null hypothesis.')"
   ]
  },
  {
   "cell_type": "markdown",
   "id": "9225556e",
   "metadata": {},
   "source": [
    "According to the alternative hypothesis, there is significant difference between the total marks of students who took test preparation who didn't. Therefore, we can conclude that the test preparation helped the students. "
   ]
  }
 ],
 "metadata": {
  "kernelspec": {
   "display_name": "Python 3 (ipykernel)",
   "language": "python",
   "name": "python3"
  },
  "language_info": {
   "codemirror_mode": {
    "name": "ipython",
    "version": 3
   },
   "file_extension": ".py",
   "mimetype": "text/x-python",
   "name": "python",
   "nbconvert_exporter": "python",
   "pygments_lexer": "ipython3",
   "version": "3.9.12"
  }
 },
 "nbformat": 4,
 "nbformat_minor": 5
}
