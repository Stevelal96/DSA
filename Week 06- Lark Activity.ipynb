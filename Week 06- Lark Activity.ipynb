{
 "cells": [
  {
   "cell_type": "code",
   "execution_count": 1,
   "id": "2cff73a3",
   "metadata": {},
   "outputs": [],
   "source": [
    "#Importing libraries \n",
    "\n",
    "import pandas as pd\n",
    "import numpy as np\n",
    "import seaborn as sns\n",
    "import matplotlib.pyplot as plt\n",
    "import statistics as stat"
   ]
  },
  {
   "cell_type": "code",
   "execution_count": 2,
   "id": "f78d95b8",
   "metadata": {
    "scrolled": true
   },
   "outputs": [
    {
     "data": {
      "text/html": [
       "<div>\n",
       "<style scoped>\n",
       "    .dataframe tbody tr th:only-of-type {\n",
       "        vertical-align: middle;\n",
       "    }\n",
       "\n",
       "    .dataframe tbody tr th {\n",
       "        vertical-align: top;\n",
       "    }\n",
       "\n",
       "    .dataframe thead th {\n",
       "        text-align: right;\n",
       "    }\n",
       "</style>\n",
       "<table border=\"1\" class=\"dataframe\">\n",
       "  <thead>\n",
       "    <tr style=\"text-align: right;\">\n",
       "      <th></th>\n",
       "      <th>country</th>\n",
       "      <th>Region</th>\n",
       "      <th>Surface area (km2)</th>\n",
       "      <th>Population in thousands (2017)</th>\n",
       "      <th>GDP per capita (current US$)</th>\n",
       "      <th>Agricultural production index</th>\n",
       "      <th>International trade: Imports (million US$)</th>\n",
       "    </tr>\n",
       "  </thead>\n",
       "  <tbody>\n",
       "    <tr>\n",
       "      <th>0</th>\n",
       "      <td>Afghanistan</td>\n",
       "      <td>SouthernAsia</td>\n",
       "      <td>652864.0</td>\n",
       "      <td>35530.0</td>\n",
       "      <td>623.2</td>\n",
       "      <td>125.0</td>\n",
       "      <td>3568.0</td>\n",
       "    </tr>\n",
       "    <tr>\n",
       "      <th>1</th>\n",
       "      <td>Albania</td>\n",
       "      <td>SouthernEurope</td>\n",
       "      <td>28748.0</td>\n",
       "      <td>2930.0</td>\n",
       "      <td>3984.2</td>\n",
       "      <td>134.0</td>\n",
       "      <td>4669.0</td>\n",
       "    </tr>\n",
       "    <tr>\n",
       "      <th>2</th>\n",
       "      <td>Algeria</td>\n",
       "      <td>NorthernAfrica</td>\n",
       "      <td>2381741.0</td>\n",
       "      <td>41318.0</td>\n",
       "      <td>4154.1</td>\n",
       "      <td>160.0</td>\n",
       "      <td>47091.0</td>\n",
       "    </tr>\n",
       "    <tr>\n",
       "      <th>3</th>\n",
       "      <td>Angola</td>\n",
       "      <td>MiddleAfrica</td>\n",
       "      <td>1246700.0</td>\n",
       "      <td>29784.0</td>\n",
       "      <td>4714.1</td>\n",
       "      <td>175.0</td>\n",
       "      <td>8790.0</td>\n",
       "    </tr>\n",
       "    <tr>\n",
       "      <th>4</th>\n",
       "      <td>Antigua and Barbuda</td>\n",
       "      <td>Caribbean</td>\n",
       "      <td>442.0</td>\n",
       "      <td>102.0</td>\n",
       "      <td>14764.5</td>\n",
       "      <td>88.0</td>\n",
       "      <td>491.0</td>\n",
       "    </tr>\n",
       "    <tr>\n",
       "      <th>...</th>\n",
       "      <td>...</td>\n",
       "      <td>...</td>\n",
       "      <td>...</td>\n",
       "      <td>...</td>\n",
       "      <td>...</td>\n",
       "      <td>...</td>\n",
       "      <td>...</td>\n",
       "    </tr>\n",
       "    <tr>\n",
       "      <th>191</th>\n",
       "      <td>Venezuela (Bolivarian Republic of)</td>\n",
       "      <td>SouthAmerica</td>\n",
       "      <td>912050.0</td>\n",
       "      <td>31977.0</td>\n",
       "      <td>11068.9</td>\n",
       "      <td>118.0</td>\n",
       "      <td>16324.0</td>\n",
       "    </tr>\n",
       "    <tr>\n",
       "      <th>192</th>\n",
       "      <td>Viet Nam</td>\n",
       "      <td>South-easternAsia</td>\n",
       "      <td>330967.0</td>\n",
       "      <td>95541.0</td>\n",
       "      <td>2067.9</td>\n",
       "      <td>136.0</td>\n",
       "      <td>174111.0</td>\n",
       "    </tr>\n",
       "    <tr>\n",
       "      <th>193</th>\n",
       "      <td>Yemen</td>\n",
       "      <td>WesternAsia</td>\n",
       "      <td>527968.0</td>\n",
       "      <td>28250.0</td>\n",
       "      <td>1106.4</td>\n",
       "      <td>136.0</td>\n",
       "      <td>6861.0</td>\n",
       "    </tr>\n",
       "    <tr>\n",
       "      <th>194</th>\n",
       "      <td>Zambia</td>\n",
       "      <td>EasternAfrica</td>\n",
       "      <td>752612.0</td>\n",
       "      <td>17094.0</td>\n",
       "      <td>1311.1</td>\n",
       "      <td>179.0</td>\n",
       "      <td>7442.0</td>\n",
       "    </tr>\n",
       "    <tr>\n",
       "      <th>195</th>\n",
       "      <td>Zimbabwe</td>\n",
       "      <td>EasternAfrica</td>\n",
       "      <td>390757.0</td>\n",
       "      <td>16530.0</td>\n",
       "      <td>890.4</td>\n",
       "      <td>99.0</td>\n",
       "      <td>5212.0</td>\n",
       "    </tr>\n",
       "  </tbody>\n",
       "</table>\n",
       "<p>196 rows × 7 columns</p>\n",
       "</div>"
      ],
      "text/plain": [
       "                                country             Region  \\\n",
       "0                           Afghanistan       SouthernAsia   \n",
       "1                               Albania     SouthernEurope   \n",
       "2                               Algeria     NorthernAfrica   \n",
       "3                                Angola       MiddleAfrica   \n",
       "4                   Antigua and Barbuda          Caribbean   \n",
       "..                                  ...                ...   \n",
       "191  Venezuela (Bolivarian Republic of)       SouthAmerica   \n",
       "192                            Viet Nam  South-easternAsia   \n",
       "193                               Yemen        WesternAsia   \n",
       "194                              Zambia      EasternAfrica   \n",
       "195                            Zimbabwe      EasternAfrica   \n",
       "\n",
       "     Surface area (km2)  Population in thousands (2017)  \\\n",
       "0              652864.0                         35530.0   \n",
       "1               28748.0                          2930.0   \n",
       "2             2381741.0                         41318.0   \n",
       "3             1246700.0                         29784.0   \n",
       "4                 442.0                           102.0   \n",
       "..                  ...                             ...   \n",
       "191            912050.0                         31977.0   \n",
       "192            330967.0                         95541.0   \n",
       "193            527968.0                         28250.0   \n",
       "194            752612.0                         17094.0   \n",
       "195            390757.0                         16530.0   \n",
       "\n",
       "     GDP per capita (current US$)  Agricultural production index   \\\n",
       "0                           623.2                           125.0   \n",
       "1                          3984.2                           134.0   \n",
       "2                          4154.1                           160.0   \n",
       "3                          4714.1                           175.0   \n",
       "4                         14764.5                            88.0   \n",
       "..                            ...                             ...   \n",
       "191                       11068.9                           118.0   \n",
       "192                        2067.9                           136.0   \n",
       "193                        1106.4                           136.0   \n",
       "194                        1311.1                           179.0   \n",
       "195                         890.4                            99.0   \n",
       "\n",
       "     International trade: Imports (million US$)  \n",
       "0                                        3568.0  \n",
       "1                                        4669.0  \n",
       "2                                       47091.0  \n",
       "3                                        8790.0  \n",
       "4                                         491.0  \n",
       "..                                          ...  \n",
       "191                                     16324.0  \n",
       "192                                    174111.0  \n",
       "193                                      6861.0  \n",
       "194                                      7442.0  \n",
       "195                                      5212.0  \n",
       "\n",
       "[196 rows x 7 columns]"
      ]
     },
     "execution_count": 2,
     "metadata": {},
     "output_type": "execute_result"
    }
   ],
   "source": [
    "# Reading data\n",
    "\n",
    "data= pd.read_excel('Dataset_w6.xlsx')\n",
    "data"
   ]
  },
  {
   "cell_type": "code",
   "execution_count": 3,
   "id": "cd570a9f",
   "metadata": {
    "scrolled": false
   },
   "outputs": [
    {
     "data": {
      "text/plain": [
       "country                                       0\n",
       "Region                                        0\n",
       "Surface area (km2)                            0\n",
       "Population in thousands (2017)                0\n",
       "GDP per capita (current US$)                  0\n",
       "Agricultural production index                 0\n",
       "International trade: Imports (million US$)    0\n",
       "dtype: int64"
      ]
     },
     "execution_count": 3,
     "metadata": {},
     "output_type": "execute_result"
    }
   ],
   "source": [
    "#Checking null values\n",
    "\n",
    "data.isnull().sum()"
   ]
  },
  {
   "cell_type": "markdown",
   "id": "08c0250d",
   "metadata": {},
   "source": [
    "There are no null values in the dataset"
   ]
  },
  {
   "cell_type": "markdown",
   "id": "aeb53654",
   "metadata": {},
   "source": [
    "1. Find out how many countries are there in the dataset"
   ]
  },
  {
   "cell_type": "code",
   "execution_count": 4,
   "id": "aa155961",
   "metadata": {},
   "outputs": [
    {
     "name": "stdout",
     "output_type": "stream",
     "text": [
      "The total number of countries in the dataset is: 196\n"
     ]
    }
   ],
   "source": [
    "# 1. Find out how many countries are there in the dataset\n",
    "\n",
    "Country= data['country'].count()\n",
    "print(\"The total number of countries in the dataset is:\", Country)"
   ]
  },
  {
   "cell_type": "markdown",
   "id": "437d8f3c",
   "metadata": {},
   "source": [
    "2. Find out how many countries with respect to the region are available in the dataset"
   ]
  },
  {
   "cell_type": "code",
   "execution_count": 5,
   "id": "08d80265",
   "metadata": {},
   "outputs": [
    {
     "name": "stdout",
     "output_type": "stream",
     "text": [
      "The total no. of countries based on each region is :\n"
     ]
    },
    {
     "data": {
      "text/plain": [
       "WesternAsia          18\n",
       "EasternAfrica        17\n",
       "Caribbean            16\n",
       "WesternAfrica        15\n",
       "SouthAmerica         12\n",
       "SouthernEurope       12\n",
       "South-easternAsia    11\n",
       "EasternEurope        10\n",
       "NorthernEurope       10\n",
       "SouthernAsia          9\n",
       "MiddleAfrica          9\n",
       "CentralAmerica        8\n",
       "WesternEurope         7\n",
       "EasternAsia           7\n",
       "SouthernAfrica        5\n",
       "Polynesia             5\n",
       "NorthernAfrica        5\n",
       "Melanesia             5\n",
       "CentralAsia           5\n",
       "NorthernAmerica       4\n",
       "Micronesia            4\n",
       "Oceania               2\n",
       "Name: Region, dtype: int64"
      ]
     },
     "execution_count": 5,
     "metadata": {},
     "output_type": "execute_result"
    }
   ],
   "source": [
    "# 2. Find out how many countries with respect to the region are available in the dataset\n",
    "\n",
    "Region= data[\"Region\"].value_counts()\n",
    "print('The total no. of countries based on each region is :')\n",
    "Region"
   ]
  },
  {
   "cell_type": "markdown",
   "id": "79374024",
   "metadata": {},
   "source": [
    "West Asia has the maximum number of countries with a count of 18, whereas Oceania has the least number of countries with 2."
   ]
  },
  {
   "cell_type": "code",
   "execution_count": 6,
   "id": "72c183f8",
   "metadata": {},
   "outputs": [
    {
     "data": {
      "image/png": "[encoded data removed]",
      "text/plain": [
       "<Figure size 1152x576 with 1 Axes>"
      ]
     },
     "metadata": {},
     "output_type": "display_data"
    }
   ],
   "source": [
    "#Plotting the region-wise count\n",
    "\n",
    "sns.set(rc = {'figure.figsize':(16,8)})\n",
    "country_region = sns.countplot(data =data, x = 'Region')\n",
    "for each in country_region.containers:\n",
    "    country_region.bar_label(each)\n",
    "    plt.xticks(rotation=55)"
   ]
  },
  {
   "cell_type": "markdown",
   "id": "01649c9c",
   "metadata": {},
   "source": [
    "3. On average which region has the highest"
   ]
  },
  {
   "cell_type": "code",
   "execution_count": 7,
   "id": "08dea755",
   "metadata": {},
   "outputs": [
    {
     "data": {
      "text/plain": [
       "Region\n",
       "NorthernAmerica    57659.0\n",
       "Name: GDP per capita (current US$), dtype: float64"
      ]
     },
     "execution_count": 7,
     "metadata": {},
     "output_type": "execute_result"
    }
   ],
   "source": [
    "# a. GDP per capita (current US$)\n",
    "\n",
    "data.groupby('Region')['GDP per capita (current US$)'].mean().sort_values(ascending= False).head(1)"
   ]
  },
  {
   "cell_type": "code",
   "execution_count": 8,
   "id": "e55044e5",
   "metadata": {},
   "outputs": [
    {
     "data": {
      "text/plain": [
       "Region\n",
       "NorthernAmerica    663552.25\n",
       "Name: International trade: Imports (million US$), dtype: float64"
      ]
     },
     "execution_count": 8,
     "metadata": {},
     "output_type": "execute_result"
    }
   ],
   "source": [
    "# b. International trade: Imports (million US$)\n",
    "data.groupby('Region')['International trade: Imports (million US$)'].mean().sort_values(ascending= False).head(1)"
   ]
  },
  {
   "cell_type": "markdown",
   "id": "c4ab8d25",
   "metadata": {},
   "source": [
    "NorthenAmerican countries has the highest GDP per capita and international trade in terms of imports."
   ]
  },
  {
   "cell_type": "markdown",
   "id": "de344580",
   "metadata": {},
   "source": [
    "4. Find out which region has more consistent with respect to GDP per capita (current US$)"
   ]
  },
  {
   "cell_type": "code",
   "execution_count": 9,
   "id": "d7d17b37",
   "metadata": {},
   "outputs": [
    {
     "data": {
      "text/plain": [
       "Region\n",
       "WesternAfrica    815.095399\n",
       "Name: GDP per capita (current US$), dtype: float64"
      ]
     },
     "execution_count": 9,
     "metadata": {},
     "output_type": "execute_result"
    }
   ],
   "source": [
    "data.groupby('Region')['GDP per capita (current US$)'].std().sort_values().head(1)"
   ]
  },
  {
   "cell_type": "markdown",
   "id": "d769b731",
   "metadata": {},
   "source": [
    "WesternAfrican countries are the most consistent countries with respect to GDP per capita income."
   ]
  }
 ],
 "metadata": {
  "kernelspec": {
   "display_name": "Python 3 (ipykernel)",
   "language": "python",
   "name": "python3"
  },
  "language_info": {
   "codemirror_mode": {
    "name": "ipython",
    "version": 3
   },
   "file_extension": ".py",
   "mimetype": "text/x-python",
   "name": "python",
   "nbconvert_exporter": "python",
   "pygments_lexer": "ipython3",
   "version": "3.9.12"
  }
 },
 "nbformat": 4,
 "nbformat_minor": 5
}
